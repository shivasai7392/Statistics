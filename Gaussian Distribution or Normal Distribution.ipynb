{
 "cells": [
  {
   "cell_type": "markdown",
   "metadata": {},
   "source": [
    "# random variable"
   ]
  },
  {
   "cell_type": "markdown",
   "metadata": {},
   "source": [
    "types of random "
   ]
  },
  {
   "cell_type": "markdown",
   "metadata": {},
   "source": [
    "Discrete variable:"
   ]
  },
  {
   "cell_type": "markdown",
   "metadata": {},
   "source": [
    "A Whole number\n",
    "ex: no of bank accounts"
   ]
  },
  {
   "cell_type": "markdown",
   "metadata": {},
   "source": [
    "Continous variable :\n",
    "<br>\n",
    "Withoin a range all the numbers "
   ]
  },
  {
   "cell_type": "markdown",
   "metadata": {},
   "source": [
    "# Gaussian Distribution or Normal Distribution"
   ]
  },
  {
   "cell_type": "markdown",
   "metadata": {},
   "source": [
    " x is a continous variable\n",
    "    <br>\n",
    "x belongs to Gaussian distribution of mean and standard deviation\n",
    "<br>\n",
    "mean is the average\n",
    "<br>\n",
    "Standard deviation is \n",
    "<br>\n",
    "my next value from mean is far as much as how much deviation(one standard deviation away or two standard deviation away)\n",
    "<br>\n",
    "Emperical formula a propert of gaussian distribution\n",
    "<br>\n",
    "The first deviation consists of 68 percenatge of value x distribution\n",
    "<br>\n",
    "The second deviation consists of 95 percenatge of value x distribution\n",
    "<br>\n",
    "The third deviation consists of 98 percenatge of value x distribution\n",
    "\n",
    "The x distribution gives a bell curve if it is a Gaussian distribution"
   ]
  },
  {
   "cell_type": "code",
   "execution_count": null,
   "metadata": {},
   "outputs": [],
   "source": []
  }
 ],
 "metadata": {
  "kernelspec": {
   "display_name": "Python 3",
   "language": "python",
   "name": "python3"
  },
  "language_info": {
   "codemirror_mode": {
    "name": "ipython",
    "version": 3
   },
   "file_extension": ".py",
   "mimetype": "text/x-python",
   "name": "python",
   "nbconvert_exporter": "python",
   "pygments_lexer": "ipython3",
   "version": "3.6.9"
  }
 },
 "nbformat": 4,
 "nbformat_minor": 4
}

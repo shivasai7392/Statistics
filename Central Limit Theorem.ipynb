{
 "cells": [
  {
   "cell_type": "markdown",
   "metadata": {},
   "source": [
    "There is X Numeric random variable\n",
    "<br>\n",
    "i took 100 samples of 30 or more datapoints from X and found the means of the those 100 samples \n",
    "<br>\n",
    "now all the 100 means i calculated a mean from them and \n",
    "<br>\n",
    "X belongs to  Central limit theoram when mean from above is same or near as actual X mean and standard deviation of standard deviation of gaussian distribution dividen by 30 or more\n"
   ]
  },
  {
   "cell_type": "code",
   "execution_count": null,
   "metadata": {},
   "outputs": [],
   "source": []
  }
 ],
 "metadata": {
  "kernelspec": {
   "display_name": "Python 3",
   "language": "python",
   "name": "python3"
  },
  "language_info": {
   "codemirror_mode": {
    "name": "ipython",
    "version": 3
   },
   "file_extension": ".py",
   "mimetype": "text/x-python",
   "name": "python",
   "nbconvert_exporter": "python",
   "pygments_lexer": "ipython3",
   "version": "3.6.9"
  }
 },
 "nbformat": 4,
 "nbformat_minor": 4
}

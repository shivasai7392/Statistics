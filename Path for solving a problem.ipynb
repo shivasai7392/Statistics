{
 "cells": [
  {
   "cell_type": "markdown",
   "metadata": {},
   "source": [
    "1.Either the label is present or not if the label is present then it is supervised learning if not it is unsupervised learning \n",
    "<br>\n",
    "2.What is the data type of the target model(label)\n",
    "<br>\n",
    "    a . Continous Regression techniques \n",
    "    <br>\n",
    "    b . Categorical Classification technique"
   ]
  },
  {
   "cell_type": "markdown",
   "metadata": {},
   "source": [
    "Regression Analysis\n",
    "\n",
    "1. Simple Linear Regression\n",
    "2.Least Square method\n",
    "3.Coefficient of Determination\n",
    "4.Testing of the significance or evaluation metrics\n",
    "5.Assumptions of Linear regression\n",
    "6.Practical example on a dataset"
   ]
  },
  {
   "cell_type": "markdown",
   "metadata": {},
   "source": [
    "y = mx + c"
   ]
  },
  {
   "cell_type": "markdown",
   "metadata": {},
   "source": [
    "m = (sigma (Xi - Xm)*(Yi - Ym))/sigma(Xi - Xm)*(Xi - Xm)"
   ]
  },
  {
   "cell_type": "code",
   "execution_count": null,
   "metadata": {},
   "outputs": [],
   "source": [
    "c = y - mx"
   ]
  }
 ],
 "metadata": {
  "kernelspec": {
   "display_name": "Python 3",
   "language": "python",
   "name": "python3"
  },
  "language_info": {
   "codemirror_mode": {
    "name": "ipython",
    "version": 2
   },
   "file_extension": ".py",
   "mimetype": "text/x-python",
   "name": "python",
   "nbconvert_exporter": "python",
   "pygments_lexer": "ipython2",
   "version": "2.7.17"
  }
 },
 "nbformat": 4,
 "nbformat_minor": 4
}
